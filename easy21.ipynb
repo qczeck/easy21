{
 "cells": [
  {
   "cell_type": "code",
   "execution_count": 1,
   "id": "aef9a1b1-17b6-427b-9940-e47f8502872a",
   "metadata": {},
   "outputs": [],
   "source": [
    "# imports\n",
    "import numpy as np"
   ]
  },
  {
   "cell_type": "markdown",
   "id": "c492089f-5ac2-4df8-9490-174bdefe1fd9",
   "metadata": {},
   "source": [
    "# Question 1: Implementation of Easy21\n",
    "\n",
    "Below I create an environment implementing the game.\n",
    "- reset(): generates the start state\n",
    "- _draw_card() -> card: returns a card represented as a dictionary with \"value\" and \"colour\" keys\n",
    "- step(action): -> (state, reward, terminated): takes an action (either \"stick\" or \"hit\") and returns a new state, a rewards (either -1, 0, or +1), and a Boolean denoting whether the terminal state has been reached\n"
   ]
  },
  {
   "cell_type": "code",
   "execution_count": 15,
   "id": "9f8b81a5-e4af-4bc6-b7e2-d5b6b8051120",
   "metadata": {},
   "outputs": [],
   "source": [
    "class Environment():\n",
    "    def __init__(self):\n",
    "        self.state = {\n",
    "            \"dealer_showing\" : np.random.choice(np.arange(1, 11)),\n",
    "            \"player_sum\": np.random.choice(np.arange(1, 11))\n",
    "        }\n",
    "        \n",
    "    def reset(self):\n",
    "        self.state = {\n",
    "            \"dealer_showing\" : np.random.choice(np.arange(1, 11)),\n",
    "            \"player_sum\": np.random.choice(np.arange(1, 11))\n",
    "        }\n",
    "\n",
    "        return self.state.copy()\n",
    "        \n",
    "    \n",
    "    def _draw_card(self):\n",
    "        value = np.random.choice(np.arange(1, 11))\n",
    "        colour = np.random.choice([\"red\", \"black\"], p=[1/3, 2/3])\n",
    "        card = {\n",
    "            \"value\": value,\n",
    "            \"colour\": colour,\n",
    "        }\n",
    "        return card\n",
    "    \n",
    "    \n",
    "    def step(self, action):\n",
    "        if action == \"hit\":\n",
    "            card = self._draw_card()\n",
    "            # Update the state based on the drawn card\n",
    "            if card[\"colour\"] == \"black\":\n",
    "                self.state[\"player_sum\"] = self.state[\"player_sum\"] + card[\"value\"]\n",
    "            else:\n",
    "                self.state[\"player_sum\"] = self.state[\"player_sum\"] - card[\"value\"]\n",
    "\n",
    "            # Terminate and return -1 if player went bust\n",
    "            if self.state[\"player_sum\"] > 21 or self.state[\"player_sum\"] < 1:\n",
    "                reward = -1\n",
    "                terminated = True\n",
    "            # Otherwise return a reward of 0\n",
    "            else:\n",
    "                terminated = False\n",
    "                reward = 0\n",
    "        \n",
    "        if action == \"stick\":\n",
    "            # We can already terminate as the dealer will keep drawing until a conclusion is reached\n",
    "            terminated = True\n",
    "            dealer_sum = self.state[\"dealer_showing\"]\n",
    "    \n",
    "            while dealer_sum < 17:\n",
    "                dealer_card = self._draw_card()\n",
    "                if dealer_card[\"colour\"] == \"black\":\n",
    "                    dealer_sum = dealer_sum + dealer_card[\"value\"]\n",
    "                else:\n",
    "                    dealer_sum = dealer_sum - dealer_card[\"value\"]\n",
    "\n",
    "            # Player wins either by dealer going bust or by having a greater sum\n",
    "            if (dealer_sum > 21 or dealer_sum < 1) or self.state[\"player_sum\"] > dealer_sum:\n",
    "                reward = 1\n",
    "            # Player draws\n",
    "            elif dealer_sum == self.state[\"player_sum\"]:\n",
    "                reward = 0\n",
    "            # Player loses\n",
    "            else:\n",
    "                reward = -1\n",
    "    \n",
    "        return self.state.copy(), reward, terminated\n",
    "\n",
    "    def get_state(self):\n",
    "        return self.state"
   ]
  },
  {
   "cell_type": "markdown",
   "id": "9697a57d-611c-49dc-8584-44e37f633cb0",
   "metadata": {},
   "source": [
    "# Question 2: Monte-Carlo Control"
   ]
  },
  {
   "cell_type": "code",
   "execution_count": 28,
   "id": "5ac50b17-32bd-4da6-9c49-8be212ac0707",
   "metadata": {},
   "outputs": [],
   "source": [
    "def uniform_random_policy():\n",
    "    return \"hit\" if np.random.uniform() > 0.5 else \"stick\"\n",
    "\n",
    "state_values = np.zeros((21, 10))\n",
    "counts = np.zeros_like(values)\n",
    "\n",
    "env = Environment()\n",
    "\n",
    "# Monte Carlo Evaluation\n",
    "for _ in range(1000):\n",
    "    episode = {\n",
    "        \"states\":[env.reset()],\n",
    "        \"rewards\":[0],\n",
    "        \"actions\":[],\n",
    "    }\n",
    "    \n",
    "    terminated = False\n",
    "    \n",
    "    while not terminated:\n",
    "        action = uniform_random_policy()\n",
    "        state, reward, terminated = env.step(action)\n",
    "        if not terminated:\n",
    "            episode[\"states\"].append(state.copy())\n",
    "        episode[\"rewards\"].append(reward)\n",
    "        episode[\"actions\"].append(action)\n",
    "\n",
    "    for t, s in enumerate(episode[\"states\"]):\n",
    "        counts[s[\"player_sum\"]-1, s[\"dealer_showing\"]-1] += 1\n",
    "        g = sum(episode[\"rewards\"][t:])\n",
    "        state_values[s[\"player_sum\"]-1, s[\"dealer_showing\"]-1] += (1/counts[s[\"player_sum\"]-1, s[\"dealer_showing\"]-1]) \\\n",
    "                                                          * (g-state_values[s[\"player_sum\"]-1, s[\"dealer_showing\"]-1])"
   ]
  },
  {
   "cell_type": "code",
   "execution_count": 29,
   "id": "b00e3c07-e146-4110-8ff3-4c038c277113",
   "metadata": {},
   "outputs": [
    {
     "data": {
      "text/plain": [
       "array([[13., 17., 10., 10., 14., 13., 16., 10., 14.,  9.],\n",
       "       [15., 14., 12., 12., 12., 11., 16., 12.,  8., 10.],\n",
       "       [16., 15., 11., 12.,  9., 14., 13., 12., 11., 15.],\n",
       "       [17., 11.,  8., 12., 14., 19., 13.,  9.,  9.,  8.],\n",
       "       [13., 16., 15.,  9., 16., 13., 20., 15., 14., 10.],\n",
       "       [19., 18., 11.,  6., 21., 10., 12., 13.,  9., 15.],\n",
       "       [21., 17., 11.,  8., 16., 27., 18., 13.,  7., 10.],\n",
       "       [12., 15., 14., 16., 18., 17., 14., 13., 10., 13.],\n",
       "       [18., 20., 13., 12., 17., 14., 11., 11., 11., 13.],\n",
       "       [14., 17.,  9.,  8.,  8., 18., 22., 11., 15., 10.],\n",
       "       [ 9.,  5.,  3.,  1.,  4.,  5.,  6.,  4.,  3.,  3.],\n",
       "       [ 5.,  0.,  4.,  5.,  4.,  6.,  6., 12.,  5.,  7.],\n",
       "       [ 3., 11.,  4.,  5.,  3.,  7.,  4.,  2.,  2.,  4.],\n",
       "       [ 2.,  5.,  2.,  0.,  6.,  3.,  5.,  4.,  4.,  3.],\n",
       "       [ 2.,  7.,  3.,  0.,  8.,  3.,  4.,  5.,  6.,  7.],\n",
       "       [ 4.,  4.,  2.,  6.,  5.,  3.,  1.,  2.,  3.,  4.],\n",
       "       [ 6.,  0.,  3.,  3.,  2.,  2.,  2.,  3.,  2.,  4.],\n",
       "       [ 4.,  3.,  1.,  0.,  1.,  4.,  1.,  2.,  4.,  1.],\n",
       "       [ 1.,  3.,  1.,  1.,  2.,  1.,  3.,  1.,  1.,  3.],\n",
       "       [ 0.,  1.,  2.,  3.,  2.,  3.,  3.,  3.,  4.,  1.],\n",
       "       [ 0.,  1.,  0.,  1.,  4.,  1.,  1.,  0.,  3.,  3.]])"
      ]
     },
     "execution_count": 29,
     "metadata": {},
     "output_type": "execute_result"
    }
   ],
   "source": [
    "counts"
   ]
  },
  {
   "cell_type": "code",
   "execution_count": 30,
   "id": "e7db0816-f046-4394-90ed-bb48a9b2a964",
   "metadata": {},
   "outputs": [
    {
     "data": {
      "text/plain": [
       "array([[-0.7, -0.6, -1. , -0.4, -0.7, -0.4, -0.9, -0.6, -0.4, -0.8],\n",
       "       [-0.9, -0.9, -0.8, -0.2, -0.7, -1. , -0.8,  0. , -0.5, -0.6],\n",
       "       [-0.8, -0.6, -0.6, -0.5, -0.6, -0.6, -0.4, -0.3, -0.1, -0.6],\n",
       "       [-0.8, -0.5, -0.8, -0.8, -0.7, -0.7, -0.2, -0.3, -0.8, -0.5],\n",
       "       [-0.4, -0.4, -0.7, -0.8, -0.5, -0.8, -0.7, -0.9, -0.3, -1. ],\n",
       "       [-0.9, -0.7, -0.8, -0.3, -0.4, -0.4, -0.7, -0.4, -0.6, -0.5],\n",
       "       [-0.8, -0.4, -0.3, -0.2, -0.4, -0.5, -0.7, -0.7, -0.1, -0.6],\n",
       "       [-0.3, -0.7, -0.6, -0.6, -0.4, -0.5, -0. , -0.4, -0. , -0.5],\n",
       "       [-0.6, -0.7, -0.2, -0.8, -0.3, -0.9, -0.6, -0.5, -0.5, -1. ],\n",
       "       [-0.7, -0.5, -0.3, -0.8,  0.2, -0.4, -0.5, -0.9, -0.7, -1. ],\n",
       "       [-0.6,  0.2,  0.3, -1. , -1. ,  0.2, -0.3,  0.5, -0.3, -0.3],\n",
       "       [-0.6,  0. , -0.5, -0.2,  0.5, -0.3, -0.3, -0.7, -0.6, -0.7],\n",
       "       [-1. , -0.6, -1. , -0.6, -1. , -0.7,  0.5,  0. ,  0. , -0.5],\n",
       "       [-1. ,  0.2, -1. ,  0. , -0.3,  0.3, -0.6,  0. , -0.5,  0.3],\n",
       "       [-1. , -0.4, -1. ,  0. , -0.2,  0.3, -1. , -0.2,  0.3, -0.7],\n",
       "       [ 0. ,  0. , -1. , -1. , -0.2, -1. , -1. , -1. ,  0.3,  0. ],\n",
       "       [-0.2,  0. , -0.3, -0.3, -1. ,  0. , -1. ,  0. , -1. , -0.5],\n",
       "       [-1. ,  1. ,  1. ,  0. ,  1. , -0.2, -1. ,  0.5,  0.5, -1. ],\n",
       "       [-1. , -1. , -1. , -1. ,  0. ,  1. ,  0. ,  1. , -1. , -1. ],\n",
       "       [ 0. ,  1. , -1. , -0.3,  0. , -0.3, -0.3,  0.3,  0.5, -1. ],\n",
       "       [ 0. , -1. ,  0. , -1. ,  0. , -1. ,  1. ,  0. ,  0.3,  1. ]])"
      ]
     },
     "execution_count": 30,
     "metadata": {},
     "output_type": "execute_result"
    }
   ],
   "source": [
    "state_values.round(1)"
   ]
  },
  {
   "cell_type": "code",
   "execution_count": 7,
   "id": "826db2f4-ba9c-453c-8b4e-42a94f650be3",
   "metadata": {},
   "outputs": [],
   "source": [
    "import matplotlib.pyplot as plt"
   ]
  },
  {
   "cell_type": "code",
   "execution_count": 31,
   "id": "121f10bf-2f9f-427a-aa53-f21848861dbd",
   "metadata": {},
   "outputs": [
    {
     "data": {
      "image/png": "[encoded data removed]",
      "text/plain": [
       "<Figure size 640x480 with 1 Axes>"
      ]
     },
     "metadata": {},
     "output_type": "display_data"
    }
   ],
   "source": [
    "plt.figure(1)\n",
    "plt.imshow(state_values)\n",
    "plt.ylabel(\"Player sum\")\n",
    "plt.xlabel(\"Dealer showing\")\n",
    "plt.show()"
   ]
  },
  {
   "cell_type": "code",
   "execution_count": 106,
   "id": "d34ecdda-a429-47dc-a6f5-f8e3c5b50239",
   "metadata": {},
   "outputs": [],
   "source": [
    "def epsilon_greedy(q, epsilon=0.05):\n",
    "    s = env.get_state()\n",
    "    s_idx1 = s[\"player_sum\"]-1\n",
    "    s_idx2 = s[\"dealer_showing\"]-1\n",
    "    if q[s_idx1, s_idx2, 0] > q[s_idx1, s_idx2, 1]:\n",
    "        if np.random.uniform() < (1-epsilon):\n",
    "            return \"hit\" \n",
    "        else:\n",
    "            return \"stick\"\n",
    "    else:\n",
    "        if np.random.uniform() < (1-epsilon):\n",
    "            return \"stick\"  \n",
    "        else:\n",
    "            return \"hit\"\n",
    "\n",
    "\n",
    "state_action_values = np.zeros((21, 10, 2))\n",
    "counts = np.zeros_like(state_action_values)\n",
    "env = Environment()\n",
    "\n",
    "# Monte Carlo Control\n",
    "for _ in range(1000000):\n",
    "    episode = {\n",
    "        \"states\":[env.reset()],\n",
    "        \"rewards\":[0],\n",
    "        \"actions\":[],\n",
    "    }\n",
    "    \n",
    "    terminated = False\n",
    "    \n",
    "    while not terminated:\n",
    "        action = epsilon_greedy(state_action_values)\n",
    "        state, reward, terminated = env.step(action)\n",
    "        if not terminated:\n",
    "            episode[\"states\"].append(state.copy())\n",
    "        episode[\"rewards\"].append(reward)\n",
    "        episode[\"actions\"].append(action)\n",
    "\n",
    "    for t, (s, a) in enumerate(zip(episode[\"states\"], episode[\"actions\"])):\n",
    "        s_idx1 = s[\"player_sum\"]-1\n",
    "        s_idx2 = s[\"dealer_showing\"]-1\n",
    "        a_idx = 0 if a == \"hit\" else 1\n",
    "        \n",
    "        counts[s_idx1, s_idx2, a_idx] += 1\n",
    "        g = sum(episode[\"rewards\"][t:])\n",
    "        state_action_values[s_idx1, s_idx2, a_idx] += (1/counts[s_idx1, s_idx2, a_idx]) \\\n",
    "                                                          * (g-state_action_values[s_idx1, s_idx2, a_idx])"
   ]
  },
  {
   "cell_type": "code",
   "execution_count": 107,
   "id": "e69ebd3d-1ea7-4049-a33e-d5fb644fa534",
   "metadata": {},
   "outputs": [
    {
     "data": {
      "image/png": "[encoded data removed]",
      "text/plain": [
       "<Figure size 640x480 with 2 Axes>"
      ]
     },
     "metadata": {},
     "output_type": "display_data"
    }
   ],
   "source": [
    "fig, axs = plt.subplots(1, 2)\n",
    "axs[0].imshow(state_action_values[:, :, 0])\n",
    "axs[0].set_title(\"action=hit\")\n",
    "axs[1].imshow(state_action_values[:, :, 1])\n",
    "axs[1].set_title(\"action=stick\")\n",
    "fig.suptitle(\"State action values for uniform random policy\")\n",
    "plt.show()"
   ]
  }
 ],
 "metadata": {
  "kernelspec": {
   "display_name": "Python 3 (ipykernel)",
   "language": "python",
   "name": "python3"
  },
  "language_info": {
   "codemirror_mode": {
    "name": "ipython",
    "version": 3
   },
   "file_extension": ".py",
   "mimetype": "text/x-python",
   "name": "python",
   "nbconvert_exporter": "python",
   "pygments_lexer": "ipython3",
   "version": "3.10.8"
  }
 },
 "nbformat": 4,
 "nbformat_minor": 5
}
