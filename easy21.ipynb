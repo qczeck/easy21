{
 "cells": [
  {
   "cell_type": "code",
   "execution_count": 1,
   "id": "aef9a1b1-17b6-427b-9940-e47f8502872a",
   "metadata": {},
   "outputs": [],
   "source": [
    "# imports\n",
    "import numpy as np"
   ]
  },
  {
   "cell_type": "markdown",
   "id": "c492089f-5ac2-4df8-9490-174bdefe1fd9",
   "metadata": {},
   "source": [
    "# Question 1: Implementation of Easy21\n",
    "\n",
    "Below I create an environment implementing the game.\n",
    "- reset(): generates the start state\n",
    "- _draw_card() -> card: returns a card represented as a dictionary with \"value\" and \"colour\" keys\n",
    "- step(action): -> (state, reward, terminated): takes an action (either \"stick\" or \"hit\") and returns a new state, a rewards (either -1, 0, or +1), and a Boolean denoting whether the terminal state has been reached\n"
   ]
  },
  {
   "cell_type": "code",
   "execution_count": 127,
   "id": "9f8b81a5-e4af-4bc6-b7e2-d5b6b8051120",
   "metadata": {},
   "outputs": [],
   "source": [
    "class Environment():\n",
    "    def __init__(self):\n",
    "        self.state = {\n",
    "            \"dealer_showing\" : np.random.choice(np.arange(1, 11)),\n",
    "            \"player_sum\": np.random.choice(np.arange(1, 11))\n",
    "        }\n",
    "        \n",
    "    def reset(self):\n",
    "        self.state = {\n",
    "            \"dealer_showing\" : np.random.choice(np.arange(1, 11)),\n",
    "            \"player_sum\": np.random.choice(np.arange(1, 11))\n",
    "        }\n",
    "\n",
    "        return self.state\n",
    "        \n",
    "    \n",
    "    def _draw_card(self):\n",
    "        value = np.random.choice(np.arange(1, 11))\n",
    "        colour = np.random.choice([\"red\", \"black\"], p=[1/3, 2/3])\n",
    "        card = {\n",
    "            \"value\": value,\n",
    "            \"colour\": colour,\n",
    "        }\n",
    "        return card\n",
    "    \n",
    "    \n",
    "    def step(self, action):\n",
    "        if action == \"hit\":\n",
    "            card = self._draw_card()\n",
    "            # Update the state based on the drawn card\n",
    "            if card[\"colour\"] == \"black\":\n",
    "                self.state[\"player_sum\"] = self.state[\"player_sum\"] + card[\"value\"]\n",
    "            else:\n",
    "                self.state[\"player_sum\"] = self.state[\"player_sum\"] - card[\"value\"]\n",
    "\n",
    "            # Terminate and return -1 if player went bust\n",
    "            if self.state[\"player_sum\"] > 21 or self.state[\"player_sum\"] < 1:\n",
    "                reward = -1\n",
    "                terminated = True\n",
    "            # Otherwise return a reward of 0\n",
    "            else:\n",
    "                terminated = False\n",
    "                reward = 0\n",
    "        \n",
    "        if action == \"stick\":\n",
    "            # We can already terminate as the dealer will keep drawing until a conclusion is reached\n",
    "            terminated = True\n",
    "            dealer_sum = self.state[\"dealer_showing\"]\n",
    "    \n",
    "            while dealer_sum < 17:\n",
    "                dealer_card = self._draw_card()\n",
    "                if dealer_card[\"colour\"] == \"black\":\n",
    "                    dealer_sum = dealer_sum + dealer_card[\"value\"]\n",
    "                else:\n",
    "                    dealer_sum = dealer_sum - dealer_card[\"value\"]\n",
    "\n",
    "            # Player wins either by dealer going bust or by having a greater sum\n",
    "            if (dealer_sum > 21 or dealer_sum < 1) or self.state[\"player_sum\"] > dealer_sum:\n",
    "                reward = 1\n",
    "            # Player draws\n",
    "            elif dealer_sum == self.state[\"player_sum\"]:\n",
    "                reward = 0\n",
    "            # Player loses\n",
    "            else:\n",
    "                reward = -1\n",
    "    \n",
    "        return self.state.copy(), reward, terminated"
   ]
  },
  {
   "cell_type": "markdown",
   "id": "9697a57d-611c-49dc-8584-44e37f633cb0",
   "metadata": {},
   "source": [
    "# Question 2: Monte-Carlo Control"
   ]
  },
  {
   "cell_type": "code",
   "execution_count": 153,
   "id": "cf52dae7-6933-4c37-b420-04715e3dfa50",
   "metadata": {},
   "outputs": [],
   "source": [
    "def uniform_random_policy():\n",
    "    return \"hit\" if np.random.uniform() > 0.5 else \"stick\"\n",
    "\n",
    "values = np.zeros((21, 10))\n",
    "total_returns = np.zeros_like(values)\n",
    "counts = np.zeros_like(values)\n",
    "\n",
    "env = Environment()"
   ]
  },
  {
   "cell_type": "code",
   "execution_count": 158,
   "id": "5ac50b17-32bd-4da6-9c49-8be212ac0707",
   "metadata": {},
   "outputs": [],
   "source": [
    "for _ in range(100000):\n",
    "    env.reset()\n",
    "    \n",
    "    episode = {\n",
    "        \"states\":[],\n",
    "        \"rewards\":[],\n",
    "        \"actions\":[],\n",
    "    }\n",
    "    \n",
    "    terminated = False\n",
    "    \n",
    "    while not terminated:\n",
    "        action = uniform_random_policy()\n",
    "        state, reward, terminated = env.step(action)\n",
    "        episode[\"states\"].append(state.copy())\n",
    "        episode[\"rewards\"].append(reward)\n",
    "        episode[\"actions\"].append(action)\n",
    "    \n",
    "    for t, state in enumerate(episode[\"states\"][:-2]):\n",
    "        counts[state[\"player_sum\"]-1, state[\"dealer_showing\"]-1] += 1\n",
    "        total_returns[state[\"player_sum\"]-1, state[\"dealer_showing\"]-1] += sum(episode[\"rewards\"][t:])"
   ]
  },
  {
   "cell_type": "code",
   "execution_count": 159,
   "id": "2b35f6a2-af08-429a-bd59-7975f97a7c8e",
   "metadata": {},
   "outputs": [],
   "source": [
    "values = total_returns / counts"
   ]
  },
  {
   "cell_type": "code",
   "execution_count": 161,
   "id": "a4e81e98-e329-4ccd-9530-6d22f2248aac",
   "metadata": {},
   "outputs": [
    {
     "name": "stdout",
     "output_type": "stream",
     "text": [
      "[[-0.63  -0.44  -0.493 -0.361 -0.474 -0.467 -0.247 -0.645 -0.639 -0.711]\n",
      " [-0.561 -0.485 -0.489 -0.628 -0.45  -0.682 -0.407 -0.72  -0.527 -0.655]\n",
      " [-0.518 -0.547 -0.462 -0.664 -0.378 -0.579 -0.565 -0.452 -0.584 -0.758]\n",
      " [-0.549 -0.471 -0.551 -0.582 -0.581 -0.66  -0.402 -0.547 -0.551 -0.736]\n",
      " [-0.557 -0.477 -0.604 -0.479 -0.435 -0.476 -0.521 -0.503 -0.472 -0.659]\n",
      " [-0.568 -0.508 -0.57  -0.61  -0.477 -0.5   -0.49  -0.548 -0.527 -0.618]\n",
      " [-0.598 -0.516 -0.519 -0.51  -0.518 -0.472 -0.605 -0.531 -0.48  -0.519]\n",
      " [-0.557 -0.472 -0.518 -0.56  -0.52  -0.429 -0.585 -0.59  -0.482 -0.566]\n",
      " [-0.613 -0.409 -0.468 -0.511 -0.449 -0.458 -0.405 -0.47  -0.511 -0.511]\n",
      " [-0.416 -0.431 -0.535 -0.495 -0.434 -0.391 -0.49  -0.471 -0.46  -0.478]\n",
      " [-0.49  -0.346 -0.438 -0.403 -0.403 -0.39  -0.441 -0.386 -0.439 -0.414]\n",
      " [-0.444 -0.402 -0.478 -0.382 -0.449 -0.317 -0.338 -0.416 -0.403 -0.432]\n",
      " [-0.427 -0.435 -0.38  -0.416 -0.388 -0.303 -0.391 -0.407 -0.316 -0.423]\n",
      " [-0.493 -0.414 -0.412 -0.423 -0.363 -0.371 -0.349 -0.455 -0.374 -0.316]\n",
      " [-0.308 -0.391 -0.395 -0.325 -0.277 -0.36  -0.439 -0.303 -0.366 -0.345]\n",
      " [-0.354 -0.348 -0.391 -0.341 -0.456 -0.246 -0.402 -0.218 -0.343 -0.331]\n",
      " [-0.418 -0.333 -0.49  -0.373 -0.252 -0.355 -0.522 -0.302 -0.374 -0.299]\n",
      " [-0.364 -0.289 -0.485 -0.229 -0.247 -0.375 -0.324 -0.492 -0.221 -0.417]\n",
      " [-0.484 -0.226 -0.138 -0.35  -0.545 -0.222 -0.455 -0.111 -0.395 -0.351]\n",
      " [-0.5   -0.372 -0.432 -0.591 -0.371 -0.075 -0.341 -0.405 -0.553 -0.286]\n",
      " [-0.483 -0.524 -0.484 -0.5   -0.5   -0.583 -0.579 -0.308 -0.545  0.   ]]\n"
     ]
    }
   ],
   "source": [
    "print(values.round(3))"
   ]
  },
  {
   "cell_type": "code",
   "execution_count": null,
   "id": "826db2f4-ba9c-453c-8b4e-42a94f650be3",
   "metadata": {},
   "outputs": [],
   "source": []
  }
 ],
 "metadata": {
  "kernelspec": {
   "display_name": "Python 3 (ipykernel)",
   "language": "python",
   "name": "python3"
  },
  "language_info": {
   "codemirror_mode": {
    "name": "ipython",
    "version": 3
   },
   "file_extension": ".py",
   "mimetype": "text/x-python",
   "name": "python",
   "nbconvert_exporter": "python",
   "pygments_lexer": "ipython3",
   "version": "3.10.8"
  }
 },
 "nbformat": 4,
 "nbformat_minor": 5
}
