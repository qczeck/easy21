{
 "cells": [
  {
   "cell_type": "code",
   "execution_count": 4,
   "id": "aef9a1b1-17b6-427b-9940-e47f8502872a",
   "metadata": {},
   "outputs": [],
   "source": [
    "# imports\n",
    "import numpy as np"
   ]
  },
  {
   "cell_type": "markdown",
   "id": "c492089f-5ac2-4df8-9490-174bdefe1fd9",
   "metadata": {},
   "source": [
    "# Question 1: Implementation of Easy21\n",
    "\n",
    "Below I create an environment implementing the game.\n",
    "- reset(): generates the start state\n",
    "- _draw_card() -> card: returns a card represented as a dictionary with \"value\" and \"colour\" keys\n",
    "- step(action): -> (state, reward, terminated): takes an action (either \"stick\" or \"hit\") and returns a new state, a rewards (either -1, 0, or +1), and a Boolean denoting whether the terminal state has been reached\n"
   ]
  },
  {
   "cell_type": "code",
   "execution_count": 162,
   "id": "9f8b81a5-e4af-4bc6-b7e2-d5b6b8051120",
   "metadata": {},
   "outputs": [],
   "source": [
    "class Environment():\n",
    "    def __init__(self):\n",
    "        self.state = {\n",
    "            \"dealer_showing\" : np.random.choice(np.arange(1, 11)),\n",
    "            \"player_sum\": np.random.choice(np.arange(1, 11))\n",
    "        }\n",
    "        \n",
    "    def reset(self):\n",
    "        self.state = {\n",
    "            \"dealer_showing\" : np.random.choice(np.arange(1, 11)),\n",
    "            \"player_sum\": np.random.choice(np.arange(1, 11))\n",
    "        }\n",
    "\n",
    "        return self.state\n",
    "        \n",
    "    \n",
    "    def _draw_card(self):\n",
    "        value = np.random.choice(np.arange(1, 11))\n",
    "        colour = np.random.choice([\"red\", \"black\"], p=[1/3, 2/3])\n",
    "        card = {\n",
    "            \"value\": value,\n",
    "            \"colour\": colour,\n",
    "        }\n",
    "        return card\n",
    "    \n",
    "    \n",
    "    def step(self, action):\n",
    "        if action == \"hit\":\n",
    "            card = self._draw_card()\n",
    "            # Update the state based on the drawn card\n",
    "            if card[\"colour\"] == \"black\":\n",
    "                self.state[\"player_sum\"] = self.state[\"player_sum\"] + card[\"value\"]\n",
    "            else:\n",
    "                self.state[\"player_sum\"] = self.state[\"player_sum\"] - card[\"value\"]\n",
    "\n",
    "            # Terminate and return -1 if player went bust\n",
    "            if self.state[\"player_sum\"] > 21 or self.state[\"player_sum\"] < 1:\n",
    "                reward = -1\n",
    "                terminated = True\n",
    "            # Otherwise return a reward of 0\n",
    "            else:\n",
    "                terminated = False\n",
    "                reward = 0\n",
    "        \n",
    "        if action == \"stick\":\n",
    "            # We can already terminate as the dealer will keep drawing until a conclusion is reached\n",
    "            terminated = True\n",
    "            dealer_sum = self.state[\"dealer_showing\"]\n",
    "    \n",
    "            while dealer_sum < 17:\n",
    "                dealer_card = self._draw_card()\n",
    "                if dealer_card[\"colour\"] == \"black\":\n",
    "                    dealer_sum = dealer_sum + dealer_card[\"value\"]\n",
    "                else:\n",
    "                    dealer_sum = dealer_sum - dealer_card[\"value\"]\n",
    "\n",
    "            # Player wins either by dealer going bust or by having a greater sum\n",
    "            if (dealer_sum > 21 or dealer_sum < 1) or self.state[\"player_sum\"] > dealer_sum:\n",
    "                reward = 1\n",
    "            # Player draws\n",
    "            elif dealer_sum == self.state[\"player_sum\"]:\n",
    "                reward = 0\n",
    "            # Player loses\n",
    "            else:\n",
    "                reward = -1\n",
    "    \n",
    "        return self.state, reward, terminated"
   ]
  },
  {
   "cell_type": "markdown",
   "id": "9697a57d-611c-49dc-8584-44e37f633cb0",
   "metadata": {},
   "source": [
    "# Question 2: Monte-Carlo Control"
   ]
  },
  {
   "cell_type": "code",
   "execution_count": 234,
   "id": "cf52dae7-6933-4c37-b420-04715e3dfa50",
   "metadata": {},
   "outputs": [
    {
     "data": {
      "text/plain": [
       "array([[0., 0., 0., 0., 0., 0., 0., 0., 0., 0.],\n",
       "       [0., 0., 0., 0., 0., 0., 0., 0., 0., 0.],\n",
       "       [0., 0., 0., 0., 0., 0., 0., 0., 0., 0.],\n",
       "       [0., 0., 0., 0., 0., 0., 0., 0., 0., 0.],\n",
       "       [0., 0., 0., 0., 0., 0., 0., 0., 0., 0.],\n",
       "       [0., 0., 0., 0., 0., 0., 0., 0., 0., 0.],\n",
       "       [0., 0., 0., 0., 0., 0., 0., 0., 0., 0.],\n",
       "       [0., 0., 0., 0., 0., 0., 0., 0., 0., 0.],\n",
       "       [0., 0., 0., 0., 0., 0., 0., 0., 0., 0.],\n",
       "       [0., 0., 0., 0., 0., 0., 0., 0., 0., 0.],\n",
       "       [0., 0., 0., 0., 0., 0., 0., 0., 0., 0.],\n",
       "       [0., 0., 0., 0., 0., 0., 0., 0., 0., 0.],\n",
       "       [0., 0., 0., 0., 0., 0., 0., 0., 0., 0.],\n",
       "       [0., 0., 0., 0., 0., 0., 0., 0., 0., 0.],\n",
       "       [0., 0., 0., 0., 0., 0., 0., 0., 0., 0.],\n",
       "       [0., 0., 0., 0., 0., 0., 0., 0., 0., 0.],\n",
       "       [0., 0., 0., 0., 0., 0., 0., 0., 0., 0.],\n",
       "       [0., 0., 0., 0., 0., 0., 0., 0., 0., 0.],\n",
       "       [0., 0., 0., 0., 0., 0., 0., 0., 0., 0.],\n",
       "       [0., 0., 0., 0., 0., 0., 0., 0., 0., 0.],\n",
       "       [0., 0., 0., 0., 0., 0., 0., 0., 0., 0.]])"
      ]
     },
     "execution_count": 234,
     "metadata": {},
     "output_type": "execute_result"
    }
   ],
   "source": [
    "def uniform_random_policy():\n",
    "    \"hit\" if np.random.uniform() > 0.5 else \"stick\"\n",
    "\n",
    "values = np.zeros((21, 10))\n",
    "returns = np.zeros_like(values)\n",
    "\n",
    "env = Environment()\n",
    "env.reset()\n"
   ]
  }
 ],
 "metadata": {
  "kernelspec": {
   "display_name": "Python 3 (ipykernel)",
   "language": "python",
   "name": "python3"
  },
  "language_info": {
   "codemirror_mode": {
    "name": "ipython",
    "version": 3
   },
   "file_extension": ".py",
   "mimetype": "text/x-python",
   "name": "python",
   "nbconvert_exporter": "python",
   "pygments_lexer": "ipython3",
   "version": "3.10.8"
  }
 },
 "nbformat": 4,
 "nbformat_minor": 5
}
