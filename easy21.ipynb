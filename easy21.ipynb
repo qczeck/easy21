{
 "cells": [
  {
   "cell_type": "code",
   "execution_count": 40,
   "id": "aef9a1b1-17b6-427b-9940-e47f8502872a",
   "metadata": {},
   "outputs": [],
   "source": [
    "# imports\n",
    "import numpy as np"
   ]
  },
  {
   "cell_type": "markdown",
   "id": "c492089f-5ac2-4df8-9490-174bdefe1fd9",
   "metadata": {},
   "source": [
    "# Question 1: Implementation of Easy21\n",
    "\n",
    "Below I create an environment implementing the game.\n",
    "- reset(): generates the start state\n",
    "- _draw_card() -> card: returns a card represented as a dictionary with \"value\" and \"colour\" keys\n",
    "- step(action): -> (state, reward, terminated): takes an action (either \"stick\" or \"hit\") and returns a new state, a rewards (either -1, 0, or +1), and a Boolean denoting whether the terminal state has been reached\n"
   ]
  },
  {
   "cell_type": "code",
   "execution_count": 41,
   "id": "9f8b81a5-e4af-4bc6-b7e2-d5b6b8051120",
   "metadata": {},
   "outputs": [],
   "source": [
    "class Environment():\n",
    "    def __init__(self):\n",
    "        self.state = {\n",
    "            \"dealer_showing\" : np.random.choice(np.arange(1, 11)),\n",
    "            \"player_sum\": np.random.choice(np.arange(1, 11))\n",
    "        }\n",
    "        \n",
    "    def reset(self):\n",
    "        self.state = {\n",
    "            \"dealer_showing\" : np.random.choice(np.arange(1, 11)),\n",
    "            \"player_sum\": np.random.choice(np.arange(1, 11))\n",
    "        }\n",
    "\n",
    "        return self.state.copy()\n",
    "        \n",
    "    \n",
    "    def _draw_card(self):\n",
    "        value = np.random.choice(np.arange(1, 11))\n",
    "        colour = np.random.choice([\"red\", \"black\"], p=[1/3, 2/3])\n",
    "        card = {\n",
    "            \"value\": value,\n",
    "            \"colour\": colour,\n",
    "        }\n",
    "        return card\n",
    "    \n",
    "    \n",
    "    def step(self, action):\n",
    "        if action == \"hit\":\n",
    "            card = self._draw_card()\n",
    "            # Update the state based on the drawn card\n",
    "            if card[\"colour\"] == \"black\":\n",
    "                self.state[\"player_sum\"] = self.state[\"player_sum\"] + card[\"value\"]\n",
    "            else:\n",
    "                self.state[\"player_sum\"] = self.state[\"player_sum\"] - card[\"value\"]\n",
    "\n",
    "            # Terminate and return -1 if player went bust\n",
    "            if self.state[\"player_sum\"] > 21 or self.state[\"player_sum\"] < 1:\n",
    "                reward = -1\n",
    "                terminated = True\n",
    "            # Otherwise return a reward of 0\n",
    "            else:\n",
    "                terminated = False\n",
    "                reward = 0\n",
    "        \n",
    "        if action == \"stick\":\n",
    "            # We can already terminate as the dealer will keep drawing until a conclusion is reached\n",
    "            terminated = True\n",
    "            dealer_sum = self.state[\"dealer_showing\"]\n",
    "    \n",
    "            while dealer_sum < 17:\n",
    "                dealer_card = self._draw_card()\n",
    "                if dealer_card[\"colour\"] == \"black\":\n",
    "                    dealer_sum = dealer_sum + dealer_card[\"value\"]\n",
    "                else:\n",
    "                    dealer_sum = dealer_sum - dealer_card[\"value\"]\n",
    "\n",
    "            # Player wins either by dealer going bust or by having a greater sum\n",
    "            if (dealer_sum > 21 or dealer_sum < 1) or self.state[\"player_sum\"] > dealer_sum:\n",
    "                reward = 1\n",
    "            # Player draws\n",
    "            elif dealer_sum == self.state[\"player_sum\"]:\n",
    "                reward = 0\n",
    "            # Player loses\n",
    "            else:\n",
    "                reward = -1\n",
    "    \n",
    "        return self.state.copy(), reward, terminated"
   ]
  },
  {
   "cell_type": "markdown",
   "id": "9697a57d-611c-49dc-8584-44e37f633cb0",
   "metadata": {},
   "source": [
    "# Question 2: Monte-Carlo Control"
   ]
  },
  {
   "cell_type": "code",
   "execution_count": 95,
   "id": "cf52dae7-6933-4c37-b420-04715e3dfa50",
   "metadata": {},
   "outputs": [],
   "source": [
    "def uniform_random_policy():\n",
    "    return \"hit\" if np.random.uniform() > 0.5 else \"stick\"\n",
    "\n",
    "values = np.zeros((21, 10))\n",
    "counts = np.zeros_like(values)\n",
    "\n",
    "env = Environment()"
   ]
  },
  {
   "cell_type": "code",
   "execution_count": 98,
   "id": "5ac50b17-32bd-4da6-9c49-8be212ac0707",
   "metadata": {},
   "outputs": [],
   "source": [
    "for _ in range(1000):\n",
    "    episode = {\n",
    "        \"states\":[env.reset()],\n",
    "        \"rewards\":[0],\n",
    "        \"actions\":[],\n",
    "    }\n",
    "    \n",
    "    terminated = False\n",
    "    \n",
    "    while not terminated:\n",
    "        action = uniform_random_policy()\n",
    "        state, reward, terminated = env.step(action)\n",
    "        if not terminated:\n",
    "            episode[\"states\"].append(state.copy())\n",
    "        episode[\"rewards\"].append(reward)\n",
    "        episode[\"actions\"].append(action)\n",
    "\n",
    "    for t, s in enumerate(episode[\"states\"]):\n",
    "        counts[s[\"player_sum\"]-1, s[\"dealer_showing\"]-1] += 1\n",
    "        g = sum(episode[\"rewards\"][t:])\n",
    "        values[s[\"player_sum\"]-1, s[\"dealer_showing\"]-1] = values[s[\"player_sum\"]-1, s[\"dealer_showing\"]-1] + (1/counts[s[\"player_sum\"]-1, s[\"dealer_showing\"]-1])*(g-values[s[\"player_sum\"]-1, s[\"dealer_showing\"]-1])"
   ]
  },
  {
   "cell_type": "code",
   "execution_count": 99,
   "id": "b00e3c07-e146-4110-8ff3-4c038c277113",
   "metadata": {},
   "outputs": [
    {
     "data": {
      "text/plain": [
       "array([[12., 10., 11., 12., 13., 10., 17.,  9., 12.,  8.],\n",
       "       [15., 13., 11., 17., 12., 12., 17., 10., 17., 11.],\n",
       "       [16., 12., 14., 20., 14., 13., 10., 13., 11., 10.],\n",
       "       [15., 12., 12., 16., 11., 16., 13., 10., 10., 16.],\n",
       "       [ 9., 13., 17., 14.,  8., 13.,  8.,  9., 14., 16.],\n",
       "       [ 8., 15., 17., 14., 11.,  8., 16., 10., 13., 15.],\n",
       "       [ 9., 12., 19., 13., 13., 14., 15., 23., 15., 15.],\n",
       "       [16., 25., 19.,  8., 11., 14., 25.,  9., 21.,  9.],\n",
       "       [ 8., 15., 13., 12., 18., 20., 13., 12., 13., 17.],\n",
       "       [11., 24., 12., 18., 17., 22., 15., 14., 11., 17.],\n",
       "       [ 4.,  7.,  5.,  3.,  7.,  1.,  5.,  4.,  5.,  7.],\n",
       "       [ 4.,  5.,  5.,  4.,  6.,  3.,  5.,  2.,  6.,  3.],\n",
       "       [ 2.,  4.,  4.,  5.,  4.,  6.,  6.,  3.,  4.,  2.],\n",
       "       [ 3.,  5.,  3.,  2.,  3.,  5.,  6.,  3.,  7.,  6.],\n",
       "       [ 5.,  3.,  5.,  5.,  4.,  2.,  3.,  3.,  5.,  5.],\n",
       "       [ 1.,  3.,  3.,  2., 10.,  6.,  6.,  5.,  3.,  2.],\n",
       "       [ 0.,  5.,  4.,  0.,  2.,  3.,  2.,  1.,  4.,  2.],\n",
       "       [ 0.,  3.,  3.,  3.,  1.,  1.,  7.,  2.,  5.,  4.],\n",
       "       [ 0.,  1.,  1.,  3.,  1.,  2.,  4.,  3.,  1.,  4.],\n",
       "       [ 3.,  2.,  3.,  1.,  1.,  1.,  4.,  5.,  2.,  3.],\n",
       "       [ 1.,  0.,  0.,  2.,  3.,  2.,  1.,  2.,  0.,  5.]])"
      ]
     },
     "execution_count": 99,
     "metadata": {},
     "output_type": "execute_result"
    }
   ],
   "source": [
    "counts"
   ]
  },
  {
   "cell_type": "code",
   "execution_count": 103,
   "id": "e7db0816-f046-4394-90ed-bb48a9b2a964",
   "metadata": {},
   "outputs": [
    {
     "data": {
      "text/plain": [
       "array([[-0.8, -0.2, -0.5, -1. , -0.4, -0.4, -0.5, -0.8, -0.7, -0.8],\n",
       "       [-0.3, -0.8, -0.3, -0.8, -0.3, -0.7, -0.4, -0.8, -0.8, -0.8],\n",
       "       [-0.4, -0.3, -0.6, -0.6, -0.7, -0.5, -0.2, -0.4, -0.8, -0.8],\n",
       "       [-0.6, -0.8, -1. , -0.9, -0.3, -0. , -0.7, -0.2, -0.2, -0.8],\n",
       "       [-0.6, -0.7, -0.9, -0.7, -0.2, -0.4, -0.2, -0.1, -0.6, -0.4],\n",
       "       [-1. , -0.5, -0.6, -0.8, -0.6, -0.5, -0.6, -0.4, -0.5, -0.5],\n",
       "       [-0.7, -0.5, -0.8, -0.5, -0.4, -0.6, -0.5, -0.5, -0.6, -0.7],\n",
       "       [-0.6, -0.5, -0.5, -0.5, -0.6, -0.6, -0.6, -0.6, -0.6, -0.6],\n",
       "       [-1. , -0.6,  0.1, -0.5, -0.6, -0.6, -0.1, -0.5, -0.8, -0.8],\n",
       "       [-0.8, -0.3, -0.5, -0.2, -0.3, -0.7, -0.3, -0.3, -0.3, -0.5],\n",
       "       [-1. , -0.4, -1. , -0.3, -0.7, -1. , -0.6, -0.5, -0.4, -1. ],\n",
       "       [ 0.5, -0.2, -1. , -1. , -0.3, -1. , -1. , -1. , -1. , -0.7],\n",
       "       [-1. ,  0. ,  0. , -0.8, -1. , -1. ,  0. , -0.3,  0. , -1. ],\n",
       "       [-0.7, -0.6,  0.3, -1. , -1. ,  0.6, -1. ,  1. , -0.3, -0.3],\n",
       "       [-0.2, -0.3, -0.6, -0.6, -1. , -1. , -0.3, -0.3, -0.8, -1. ],\n",
       "       [-1. , -0.3, -0.3, -1. , -0.2, -0.3,  0.3, -0.6, -1. , -1. ],\n",
       "       [ 0. , -0.2,  0. ,  0. , -1. , -0.3,  0. ,  1. , -1. ,  0. ],\n",
       "       [ 0. ,  0.3, -1. ,  0. , -1. , -1. , -0.1,  1. , -0.2, -0.5],\n",
       "       [ 0. ,  1. , -1. ,  0.7, -1. ,  0. ,  0.5,  0.3, -1. , -0.5],\n",
       "       [-0.7,  0. ,  0.3,  0. ,  1. ,  1. , -0.5, -0.2,  0. ,  0. ],\n",
       "       [ 1. ,  0. ,  0. ,  0. , -1. ,  0. , -1. ,  1. ,  0. , -0.6]])"
      ]
     },
     "execution_count": 103,
     "metadata": {},
     "output_type": "execute_result"
    }
   ],
   "source": [
    "values.round(1)"
   ]
  },
  {
   "cell_type": "code",
   "execution_count": 35,
   "id": "826db2f4-ba9c-453c-8b4e-42a94f650be3",
   "metadata": {},
   "outputs": [],
   "source": [
    "import matplotlib.pyplot as plt"
   ]
  },
  {
   "cell_type": "code",
   "execution_count": 104,
   "id": "121f10bf-2f9f-427a-aa53-f21848861dbd",
   "metadata": {},
   "outputs": [
    {
     "data": {
      "image/png": "[encoded data removed]",
      "text/plain": [
       "<Figure size 640x480 with 1 Axes>"
      ]
     },
     "metadata": {},
     "output_type": "display_data"
    }
   ],
   "source": [
    "plt.figure(1)\n",
    "plt.imshow(values)\n",
    "plt.ylabel(\"Player sum\")\n",
    "plt.xlabel(\"Dealer showing\")\n",
    "plt.show()"
   ]
  }
 ],
 "metadata": {
  "kernelspec": {
   "display_name": "Python 3 (ipykernel)",
   "language": "python",
   "name": "python3"
  },
  "language_info": {
   "codemirror_mode": {
    "name": "ipython",
    "version": 3
   },
   "file_extension": ".py",
   "mimetype": "text/x-python",
   "name": "python",
   "nbconvert_exporter": "python",
   "pygments_lexer": "ipython3",
   "version": "3.10.8"
  }
 },
 "nbformat": 4,
 "nbformat_minor": 5
}
